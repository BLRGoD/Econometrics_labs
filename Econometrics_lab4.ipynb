{
  "nbformat": 4,
  "nbformat_minor": 0,
  "metadata": {
    "colab": {
      "provenance": [],
      "include_colab_link": true
    },
    "kernelspec": {
      "name": "python3",
      "display_name": "Python 3"
    },
    "language_info": {
      "name": "python"
    }
  },
  "cells": [
    {
      "cell_type": "markdown",
      "metadata": {
        "id": "view-in-github",
        "colab_type": "text"
      },
      "source": [
        "<a href=\"https://colab.research.google.com/github/BLRGoD/Econometrics_labs/blob/main/Econometrics_lab4.ipynb\" target=\"_parent\"><img src=\"https://colab.research.google.com/assets/colab-badge.svg\" alt=\"Open In Colab\"/></a>"
      ]
    },
    {
      "cell_type": "code",
      "execution_count": null,
      "metadata": {
        "id": "4xXluJdwAeh3"
      },
      "outputs": [],
      "source": [
        "import pandas as pd\n",
        "from numpy import ones\n",
        "from pandas import DataFrame\n",
        "import statsmodels.api as sm\n",
        "import matplotlib.pyplot as plt\n",
        "from scipy.stats import norm, kstest\n",
        "from numpy import arange\n",
        "from statsmodels.formula.api import ols\n",
        "from scipy.stats import f"
      ]
    },
    {
      "cell_type": "code",
      "source": [
        "data = pd.read_excel('lab_4.xlsx', 'python') \n",
        "data.head(10)\n",
        "\n"
      ],
      "metadata": {
        "colab": {
          "base_uri": "https://localhost:8080/",
          "height": 363
        },
        "id": "yjeFf5JtAlhe",
        "outputId": "26f30751-ad5e-4483-f870-6c776d77eb13"
      },
      "execution_count": null,
      "outputs": [
        {
          "output_type": "execute_result",
          "data": {
            "text/plain": [
              "       Y         x1    x2  x5                    x8            x10   x11  \\\n",
              "0  16659  восточный  17.2   1                лоджия      последний  2.99   \n",
              "1  10528  восточный  26.3   1                   нет      последний  2.57   \n",
              "2  17728  восточный  18.7   1  более одного балкона  промежуточный  2.87   \n",
              "3  11277  восточный  23.4   1                балкон  промежуточный  2.65   \n",
              "4  13325  восточный  21.0   1                балкон      последний  2.76   \n",
              "5  13577  восточный  19.9   1                   нет  промежуточный  2.83   \n",
              "6   9471  восточный  25.9   1                   нет  промежуточный  2.57   \n",
              "7   9651  восточный  21.7   1                   нет  промежуточный  2.48   \n",
              "8  16674  восточный  22.9   1                балкон  промежуточный  2.60   \n",
              "9  14048  восточный  20.9   1                   нет      последний  2.61   \n",
              "\n",
              "         x12  x14  x18  \n",
              "0  панельный   37    2  \n",
              "1  панельный   63    2  \n",
              "2  кирпичный   39    1  \n",
              "3  кирпичный   49    1  \n",
              "4    блочный   44    2  \n",
              "5  кирпичный   52    3  \n",
              "6  панельный   47    2  \n",
              "7  кирпичный   48    3  \n",
              "8  кирпичный   51    3  \n",
              "9  кирпичный   47    3  "
            ],
            "text/html": [
              "\n",
              "  <div id=\"df-fd77ee7f-9dd8-4d73-948a-4b3e6111f2ad\">\n",
              "    <div class=\"colab-df-container\">\n",
              "      <div>\n",
              "<style scoped>\n",
              "    .dataframe tbody tr th:only-of-type {\n",
              "        vertical-align: middle;\n",
              "    }\n",
              "\n",
              "    .dataframe tbody tr th {\n",
              "        vertical-align: top;\n",
              "    }\n",
              "\n",
              "    .dataframe thead th {\n",
              "        text-align: right;\n",
              "    }\n",
              "</style>\n",
              "<table border=\"1\" class=\"dataframe\">\n",
              "  <thead>\n",
              "    <tr style=\"text-align: right;\">\n",
              "      <th></th>\n",
              "      <th>Y</th>\n",
              "      <th>x1</th>\n",
              "      <th>x2</th>\n",
              "      <th>x5</th>\n",
              "      <th>x8</th>\n",
              "      <th>x10</th>\n",
              "      <th>x11</th>\n",
              "      <th>x12</th>\n",
              "      <th>x14</th>\n",
              "      <th>x18</th>\n",
              "    </tr>\n",
              "  </thead>\n",
              "  <tbody>\n",
              "    <tr>\n",
              "      <th>0</th>\n",
              "      <td>16659</td>\n",
              "      <td>восточный</td>\n",
              "      <td>17.2</td>\n",
              "      <td>1</td>\n",
              "      <td>лоджия</td>\n",
              "      <td>последний</td>\n",
              "      <td>2.99</td>\n",
              "      <td>панельный</td>\n",
              "      <td>37</td>\n",
              "      <td>2</td>\n",
              "    </tr>\n",
              "    <tr>\n",
              "      <th>1</th>\n",
              "      <td>10528</td>\n",
              "      <td>восточный</td>\n",
              "      <td>26.3</td>\n",
              "      <td>1</td>\n",
              "      <td>нет</td>\n",
              "      <td>последний</td>\n",
              "      <td>2.57</td>\n",
              "      <td>панельный</td>\n",
              "      <td>63</td>\n",
              "      <td>2</td>\n",
              "    </tr>\n",
              "    <tr>\n",
              "      <th>2</th>\n",
              "      <td>17728</td>\n",
              "      <td>восточный</td>\n",
              "      <td>18.7</td>\n",
              "      <td>1</td>\n",
              "      <td>более одного балкона</td>\n",
              "      <td>промежуточный</td>\n",
              "      <td>2.87</td>\n",
              "      <td>кирпичный</td>\n",
              "      <td>39</td>\n",
              "      <td>1</td>\n",
              "    </tr>\n",
              "    <tr>\n",
              "      <th>3</th>\n",
              "      <td>11277</td>\n",
              "      <td>восточный</td>\n",
              "      <td>23.4</td>\n",
              "      <td>1</td>\n",
              "      <td>балкон</td>\n",
              "      <td>промежуточный</td>\n",
              "      <td>2.65</td>\n",
              "      <td>кирпичный</td>\n",
              "      <td>49</td>\n",
              "      <td>1</td>\n",
              "    </tr>\n",
              "    <tr>\n",
              "      <th>4</th>\n",
              "      <td>13325</td>\n",
              "      <td>восточный</td>\n",
              "      <td>21.0</td>\n",
              "      <td>1</td>\n",
              "      <td>балкон</td>\n",
              "      <td>последний</td>\n",
              "      <td>2.76</td>\n",
              "      <td>блочный</td>\n",
              "      <td>44</td>\n",
              "      <td>2</td>\n",
              "    </tr>\n",
              "    <tr>\n",
              "      <th>5</th>\n",
              "      <td>13577</td>\n",
              "      <td>восточный</td>\n",
              "      <td>19.9</td>\n",
              "      <td>1</td>\n",
              "      <td>нет</td>\n",
              "      <td>промежуточный</td>\n",
              "      <td>2.83</td>\n",
              "      <td>кирпичный</td>\n",
              "      <td>52</td>\n",
              "      <td>3</td>\n",
              "    </tr>\n",
              "    <tr>\n",
              "      <th>6</th>\n",
              "      <td>9471</td>\n",
              "      <td>восточный</td>\n",
              "      <td>25.9</td>\n",
              "      <td>1</td>\n",
              "      <td>нет</td>\n",
              "      <td>промежуточный</td>\n",
              "      <td>2.57</td>\n",
              "      <td>панельный</td>\n",
              "      <td>47</td>\n",
              "      <td>2</td>\n",
              "    </tr>\n",
              "    <tr>\n",
              "      <th>7</th>\n",
              "      <td>9651</td>\n",
              "      <td>восточный</td>\n",
              "      <td>21.7</td>\n",
              "      <td>1</td>\n",
              "      <td>нет</td>\n",
              "      <td>промежуточный</td>\n",
              "      <td>2.48</td>\n",
              "      <td>кирпичный</td>\n",
              "      <td>48</td>\n",
              "      <td>3</td>\n",
              "    </tr>\n",
              "    <tr>\n",
              "      <th>8</th>\n",
              "      <td>16674</td>\n",
              "      <td>восточный</td>\n",
              "      <td>22.9</td>\n",
              "      <td>1</td>\n",
              "      <td>балкон</td>\n",
              "      <td>промежуточный</td>\n",
              "      <td>2.60</td>\n",
              "      <td>кирпичный</td>\n",
              "      <td>51</td>\n",
              "      <td>3</td>\n",
              "    </tr>\n",
              "    <tr>\n",
              "      <th>9</th>\n",
              "      <td>14048</td>\n",
              "      <td>восточный</td>\n",
              "      <td>20.9</td>\n",
              "      <td>1</td>\n",
              "      <td>нет</td>\n",
              "      <td>последний</td>\n",
              "      <td>2.61</td>\n",
              "      <td>кирпичный</td>\n",
              "      <td>47</td>\n",
              "      <td>3</td>\n",
              "    </tr>\n",
              "  </tbody>\n",
              "</table>\n",
              "</div>\n",
              "      <button class=\"colab-df-convert\" onclick=\"convertToInteractive('df-fd77ee7f-9dd8-4d73-948a-4b3e6111f2ad')\"\n",
              "              title=\"Convert this dataframe to an interactive table.\"\n",
              "              style=\"display:none;\">\n",
              "        \n",
              "  <svg xmlns=\"http://www.w3.org/2000/svg\" height=\"24px\"viewBox=\"0 0 24 24\"\n",
              "       width=\"24px\">\n",
              "    <path d=\"M0 0h24v24H0V0z\" fill=\"none\"/>\n",
              "    <path d=\"M18.56 5.44l.94 2.06.94-2.06 2.06-.94-2.06-.94-.94-2.06-.94 2.06-2.06.94zm-11 1L8.5 8.5l.94-2.06 2.06-.94-2.06-.94L8.5 2.5l-.94 2.06-2.06.94zm10 10l.94 2.06.94-2.06 2.06-.94-2.06-.94-.94-2.06-.94 2.06-2.06.94z\"/><path d=\"M17.41 7.96l-1.37-1.37c-.4-.4-.92-.59-1.43-.59-.52 0-1.04.2-1.43.59L10.3 9.45l-7.72 7.72c-.78.78-.78 2.05 0 2.83L4 21.41c.39.39.9.59 1.41.59.51 0 1.02-.2 1.41-.59l7.78-7.78 2.81-2.81c.8-.78.8-2.07 0-2.86zM5.41 20L4 18.59l7.72-7.72 1.47 1.35L5.41 20z\"/>\n",
              "  </svg>\n",
              "      </button>\n",
              "      \n",
              "  <style>\n",
              "    .colab-df-container {\n",
              "      display:flex;\n",
              "      flex-wrap:wrap;\n",
              "      gap: 12px;\n",
              "    }\n",
              "\n",
              "    .colab-df-convert {\n",
              "      background-color: #E8F0FE;\n",
              "      border: none;\n",
              "      border-radius: 50%;\n",
              "      cursor: pointer;\n",
              "      display: none;\n",
              "      fill: #1967D2;\n",
              "      height: 32px;\n",
              "      padding: 0 0 0 0;\n",
              "      width: 32px;\n",
              "    }\n",
              "\n",
              "    .colab-df-convert:hover {\n",
              "      background-color: #E2EBFA;\n",
              "      box-shadow: 0px 1px 2px rgba(60, 64, 67, 0.3), 0px 1px 3px 1px rgba(60, 64, 67, 0.15);\n",
              "      fill: #174EA6;\n",
              "    }\n",
              "\n",
              "    [theme=dark] .colab-df-convert {\n",
              "      background-color: #3B4455;\n",
              "      fill: #D2E3FC;\n",
              "    }\n",
              "\n",
              "    [theme=dark] .colab-df-convert:hover {\n",
              "      background-color: #434B5C;\n",
              "      box-shadow: 0px 1px 3px 1px rgba(0, 0, 0, 0.15);\n",
              "      filter: drop-shadow(0px 1px 2px rgba(0, 0, 0, 0.3));\n",
              "      fill: #FFFFFF;\n",
              "    }\n",
              "  </style>\n",
              "\n",
              "      <script>\n",
              "        const buttonEl =\n",
              "          document.querySelector('#df-fd77ee7f-9dd8-4d73-948a-4b3e6111f2ad button.colab-df-convert');\n",
              "        buttonEl.style.display =\n",
              "          google.colab.kernel.accessAllowed ? 'block' : 'none';\n",
              "\n",
              "        async function convertToInteractive(key) {\n",
              "          const element = document.querySelector('#df-fd77ee7f-9dd8-4d73-948a-4b3e6111f2ad');\n",
              "          const dataTable =\n",
              "            await google.colab.kernel.invokeFunction('convertToInteractive',\n",
              "                                                     [key], {});\n",
              "          if (!dataTable) return;\n",
              "\n",
              "          const docLinkHtml = 'Like what you see? Visit the ' +\n",
              "            '<a target=\"_blank\" href=https://colab.research.google.com/notebooks/data_table.ipynb>data table notebook</a>'\n",
              "            + ' to learn more about interactive tables.';\n",
              "          element.innerHTML = '';\n",
              "          dataTable['output_type'] = 'display_data';\n",
              "          await google.colab.output.renderOutput(dataTable, element);\n",
              "          const docLink = document.createElement('div');\n",
              "          docLink.innerHTML = docLinkHtml;\n",
              "          element.appendChild(docLink);\n",
              "        }\n",
              "      </script>\n",
              "    </div>\n",
              "  </div>\n",
              "  "
            ]
          },
          "metadata": {},
          "execution_count": 188
        }
      ]
    },
    {
      "cell_type": "code",
      "source": [
        "columns = list(['x1','x5','x8', 'x10', 'x12'])\n",
        "def YX(data_x, response, vars_x):\n",
        "    nones = DataFrame({'Intercept': ones(data_x.shape[0])})\n",
        "    X = nones.join(DataFrame(data=data_x.loc[:, vars_x].values, columns=vars_x))\n",
        "    Y = DataFrame(data=data_x[response].values, columns=[response])\n",
        "    return Y, X"
      ],
      "metadata": {
        "id": "fuTGKM1ZAxFh"
      },
      "execution_count": null,
      "outputs": []
    },
    {
      "cell_type": "code",
      "source": [
        "dataWitoutFict = data.loc[:, ['Y', 'x2', 'x11', 'x14', 'x18']]"
      ],
      "metadata": {
        "id": "lreR9PtJBLxV"
      },
      "execution_count": null,
      "outputs": []
    },
    {
      "cell_type": "code",
      "source": [
        "formula = \"{} ~ {}\".format(\"Y\", \"+\".join(dataWitoutFict.drop(columns='Y').columns.to_list()))\n",
        "print(formula)\n",
        "model_kol = ols(formula=formula, data=data).fit()\n",
        "print(\"\\nРезультаты оценки параметров регрессионной модели для всех квартир\\n\", model_kol.summary())"
      ],
      "metadata": {
        "id": "u4qs6mMTBRfH"
      },
      "execution_count": null,
      "outputs": []
    },
    {
      "cell_type": "code",
      "source": [
        "model_kol = backward_elimination(dataWitoutFict, \"Y\")\n",
        "# print(\"\\nРезультаты оценки параметров регрессионной модели для всех квартир после устранения\\n\"\n",
        "#       \"мультиколлинеарности методом пошаговой регрессии с исключением переменных\", model_kol.summary(),\n",
        "#       sep='\\n')\n",
        "plot_residuals(model_kol.resid)\n"
      ],
      "metadata": {
        "colab": {
          "base_uri": "https://localhost:8080/",
          "height": 472
        },
        "id": "kOwJflYMBVJC",
        "outputId": "67eb9268-e998-4eaf-9d26-cfe97bc7f686"
      },
      "execution_count": null,
      "outputs": [
        {
          "output_type": "display_data",
          "data": {
            "text/plain": [
              "<Figure size 640x480 with 1 Axes>"
            ],
            "image/png": "[encoded data removed]"
          },
          "metadata": {}
        }
      ]
    },
    {
      "cell_type": "code",
      "source": [
        "for col in columns:\n",
        "    values = sorted(list(set(data[col])))[:-1]\n",
        "    for i in range(len(values)):\n",
        "        data = data.assign(newVariable = lambda x : x[col] == values[i])\n",
        "        data.newVariable = data.newVariable.apply(int)\n",
        "        data.rename(columns={'newVariable' : \"d_{}_{}\".format(col, i + 1)}, inplace=True)\n",
        "        print(\"-\" * 10)\n",
        "        print(\"d_{}_{} = 1, если {} = {}\".format(col, i + 1, col, values[i]))\n",
        "        print(\"d_{}_{} = 0, иначе\".format(col, i + 1)) \n",
        "    data = data.drop(columns=[col])\n",
        "data.head()"
      ],
      "metadata": {
        "id": "Ms9r_UtRBlkD"
      },
      "execution_count": null,
      "outputs": []
    },
    {
      "cell_type": "code",
      "source": [
        "def findRss(data, response):\n",
        "    Y, X = YX(data, response, data.drop(columns=[response]).columns.tolist())\n",
        "    reslt = sm.OLS(Y, X).fit()\n",
        "\n",
        "    return reslt.resid.values @ reslt.resid.values.T, int(reslt.nobs)"
      ],
      "metadata": {
        "id": "W4aLtNurBpCb"
      },
      "execution_count": null,
      "outputs": []
    },
    {
      "cell_type": "code",
      "source": [
        "def chowTest(samp1, samp2, response):\n",
        "    rssTotal = findRss(pd.concat([samp1, samp2]), response)[0]\n",
        "    rss1, n1 = findRss(samp1, response)\n",
        "    rss2, n2 = findRss(samp2, response)\n",
        "    chowNom = (rssTotal - rss1 - rss2) / samp1.shape[1]\n",
        "    chowDenom = (rss1 + rss2) / (n1 + n2 - 2 * samp1.shape[1])\n",
        "    return rssTotal, rss1, rss2, chowNom / chowDenom"
      ],
      "metadata": {
        "id": "gL_DOFXIB6_C"
      },
      "execution_count": null,
      "outputs": []
    },
    {
      "cell_type": "code",
      "source": [
        "def backward_elimination(data_b, response):\n",
        "    selected = set(data_b.columns)\n",
        "    selected.remove(response)\n",
        "    currentPValues = ols(formula=\"{} ~ {}\".format(response, \" + \".join(selected)), data=data_b).fit().pvalues\n",
        "    for _ in range(len(data_b.columns)):\n",
        "        currentAdjR2 = -1.3\n",
        "        if max(currentPValues) >= 0.05:\n",
        "            for i in range(1, len(currentPValues)):\n",
        "                candidateToRemove = currentPValues.axes[0][i]\n",
        "                newModel = ols(formula=\"{} ~ {}\".format(response, \" + \".join(selected - set([candidateToRemove]))),\n",
        "                               data=data_b).fit()\n",
        "                newAdjR2 = newModel.rsquared_adj\n",
        "                if currentAdjR2 < newAdjR2:\n",
        "                    currentAdjR2, deletedVar, improvedPValues = newAdjR2, candidateToRemove, newModel.pvalues\n",
        "        if currentAdjR2 == -1.3:\n",
        "            break\n",
        "        selected.remove(deletedVar)\n",
        "        currentPValues = improvedPValues\n",
        "    return ols(formula=\"{} ~ {}\".format(response, \" + \".join(sorted(selected))), data=data_b).fit()"
      ],
      "metadata": {
        "id": "1Mmr1YmWA4u5"
      },
      "execution_count": null,
      "outputs": []
    },
    {
      "cell_type": "code",
      "source": [
        "columnsFitct = list(data.columns)\n",
        "del columnsFitct[0:5]\n",
        "columnsFitct"
      ],
      "metadata": {
        "id": "PiQwaL3K57Xf"
      },
      "execution_count": null,
      "outputs": []
    },
    {
      "cell_type": "code",
      "source": [
        "backwardModel = forward_selected(data, \"Y\")\n",
        "print(\"Устранение мультиколлинеарности методом пошаговой регрессии с исключением переменных\", backwardModel.summary(),\n",
        "      sep='\\n')"
      ],
      "metadata": {
        "colab": {
          "base_uri": "https://localhost:8080/"
        },
        "id": "qcu5sInwCDL4",
        "outputId": "a42f8548-c806-4abc-fd23-15ea8aacc3ed"
      },
      "execution_count": null,
      "outputs": [
        {
          "output_type": "stream",
          "name": "stdout",
          "text": [
            "Устранение мультиколлинеарности методом пошаговой регрессии с исключением переменных\n",
            "                            OLS Regression Results                            \n",
            "==============================================================================\n",
            "Dep. Variable:                      Y   R-squared:                       0.588\n",
            "Model:                            OLS   Adj. R-squared:                  0.582\n",
            "Method:                 Least Squares   F-statistic:                     107.5\n",
            "Date:                Sun, 21 May 2023   Prob (F-statistic):          2.33e-124\n",
            "Time:                        11:00:13   Log-Likelihood:                -7029.9\n",
            "No. Observations:                 689   AIC:                         1.408e+04\n",
            "Df Residuals:                     679   BIC:                         1.413e+04\n",
            "Df Model:                           9                                         \n",
            "Covariance Type:            nonrobust                                         \n",
            "==============================================================================\n",
            "                 coef    std err          t      P>|t|      [0.025      0.975]\n",
            "------------------------------------------------------------------------------\n",
            "Intercept  -4.773e+04   5052.603     -9.447      0.000   -5.77e+04   -3.78e+04\n",
            "d_x10_1    -2068.6049   1041.005     -1.987      0.047   -4112.581     -24.629\n",
            "d_x12_3     3190.5395    842.881      3.785      0.000    1535.573    4845.506\n",
            "d_x1_2      3272.7066    647.671      5.053      0.000    2001.028    4544.386\n",
            "d_x1_3      1007.6731    617.345      1.632      0.103    -204.462    2219.808\n",
            "d_x5_1      1552.4631    741.773      2.093      0.037      96.019    3008.907\n",
            "d_x8_7      -913.4511    644.014     -1.418      0.157   -2177.950     351.048\n",
            "x11         1.785e+04   1787.136      9.988      0.000    1.43e+04    2.14e+04\n",
            "x14          -30.4235     16.500     -1.844      0.066     -62.821       1.974\n",
            "x2           540.4081     41.007     13.178      0.000     459.892     620.924\n",
            "==============================================================================\n",
            "Omnibus:                      738.393   Durbin-Watson:                   1.791\n",
            "Prob(Omnibus):                  0.000   Jarque-Bera (JB):           117529.201\n",
            "Skew:                           4.586   Prob(JB):                         0.00\n",
            "Kurtosis:                      66.323   Cond. No.                     1.07e+03\n",
            "==============================================================================\n",
            "\n",
            "Notes:\n",
            "[1] Standard Errors assume that the covariance matrix of the errors is correctly specified.\n",
            "[2] The condition number is large, 1.07e+03. This might indicate that there are\n",
            "strong multicollinearity or other numerical problems.\n"
          ]
        }
      ]
    },
    {
      "cell_type": "code",
      "source": [
        "def plot_residuals(resid):\n",
        "    _, ax = plt.subplots()\n",
        "    # histData = plt.hist(resid)\n",
        "    ax.hist(resid, bins=20, alpha=0.95, rwidth=1)\n",
        "    range_ = arange(min(resid), max(resid), 0.05)\n",
        "    # coefY = len(resid) * (histData[1][1] - histData[1][0])\n",
        "    # ax.plot(range_, [norm(resid.mean(), resid.std()).pdf(x) * coefY for x in range_], color='r')\n",
        "    ax.set_xlabel('Residuals')\n",
        "    ax.set_ylabel('Frequency')\n",
        "    ax.set_title('Residual Distribution')\n",
        "    ax.set_xlim([-40000, 100000])\n",
        "    ax.set_xticks(arange(-40000, 100000, 20000))\n",
        "    plt.show()"
      ],
      "metadata": {
        "id": "VJFrvUius7ZH"
      },
      "execution_count": null,
      "outputs": []
    },
    {
      "cell_type": "code",
      "source": [
        "plot_residuals(backwardModel.resid)"
      ],
      "metadata": {
        "colab": {
          "base_uri": "https://localhost:8080/",
          "height": 472
        },
        "id": "03Mf07L2CEes",
        "outputId": "50c27597-1bc8-4af2-cab2-143c1d209009"
      },
      "execution_count": null,
      "outputs": [
        {
          "output_type": "display_data",
          "data": {
            "text/plain": [
              "<Figure size 640x480 with 1 Axes>"
            ],
            "image/png": "[encoded data removed]"
          },
          "metadata": {}
        }
      ]
    }
  ]
}